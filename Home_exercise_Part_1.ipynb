{
  "nbformat": 4,
  "nbformat_minor": 0,
  "metadata": {
    "kernelspec": {
      "display_name": "Python 3",
      "language": "python",
      "name": "python3"
    },
    "language_info": {
      "codemirror_mode": {
        "name": "ipython",
        "version": 3
      },
      "file_extension": ".py",
      "mimetype": "text/x-python",
      "name": "python",
      "nbconvert_exporter": "python",
      "pygments_lexer": "ipython3",
      "version": "3.7.6"
    },
    "colab": {
      "name": "Home exercise - Part 1.ipynb",
      "provenance": [],
      "collapsed_sections": [],
      "include_colab_link": true
    }
  },
  "cells": [
    {
      "cell_type": "markdown",
      "metadata": {
        "id": "view-in-github",
        "colab_type": "text"
      },
      "source": [
        "<a href=\"https://colab.research.google.com/github/303001069/DataScience/blob/master/Home_exercise_Part_1.ipynb\" target=\"_parent\"><img src=\"https://colab.research.google.com/assets/colab-badge.svg\" alt=\"Open In Colab\"/></a>"
      ]
    },
    {
      "cell_type": "markdown",
      "metadata": {
        "id": "rvOz1PMcXor5"
      },
      "source": [
        "# Exercises for part I - Try it at home"
      ]
    },
    {
      "cell_type": "markdown",
      "metadata": {
        "id": "qj75vWQQXosX"
      },
      "source": [
        "## List\n",
        " \n",
        "1. Create a list of numbers from 1 to 10"
      ]
    },
    {
      "cell_type": "code",
      "metadata": {
        "id": "tQP7ixVMXosa",
        "colab": {
          "base_uri": "https://localhost:8080/"
        },
        "outputId": "0e485296-ac41-4acb-acdb-64267d475fd9"
      },
      "source": [
        "#List=[1, 2, 3, 4, 5, 6, 7, 8, 9, 10]\n",
        "List=list(range(1,11))\n",
        "List"
      ],
      "execution_count": 1,
      "outputs": [
        {
          "output_type": "execute_result",
          "data": {
            "text/plain": [
              "[1, 2, 3, 4, 5, 6, 7, 8, 9, 10]"
            ]
          },
          "metadata": {
            "tags": []
          },
          "execution_count": 1
        }
      ]
    },
    {
      "cell_type": "markdown",
      "metadata": {
        "id": "ub70o6PKXosd"
      },
      "source": [
        "2. Append to the list the number 20"
      ]
    },
    {
      "cell_type": "code",
      "metadata": {
        "id": "SfTakZdEXose",
        "colab": {
          "base_uri": "https://localhost:8080/"
        },
        "outputId": "f1035630-52da-4637-c40e-b775b67e9bf6"
      },
      "source": [
        "List.append(20)\n",
        "List"
      ],
      "execution_count": 2,
      "outputs": [
        {
          "output_type": "execute_result",
          "data": {
            "text/plain": [
              "[1, 2, 3, 4, 5, 6, 7, 8, 9, 10, 20]"
            ]
          },
          "metadata": {
            "tags": []
          },
          "execution_count": 2
        }
      ]
    },
    {
      "cell_type": "markdown",
      "metadata": {
        "id": "aL-ZZNhbXosf"
      },
      "source": [
        "3. Insert two zeros after the fourth place of the list"
      ]
    },
    {
      "cell_type": "code",
      "metadata": {
        "id": "s_35vpFdXosh",
        "colab": {
          "base_uri": "https://localhost:8080/"
        },
        "outputId": "857bf489-90dc-49b5-f8ab-ad6a6f01483b"
      },
      "source": [
        "List_zeros=[0,0]\n",
        "List=List[:4]+List_zeros+List[4:]\n",
        "List"
      ],
      "execution_count": 3,
      "outputs": [
        {
          "output_type": "execute_result",
          "data": {
            "text/plain": [
              "[1, 2, 3, 4, 0, 0, 5, 6, 7, 8, 9, 10, 20]"
            ]
          },
          "metadata": {
            "tags": []
          },
          "execution_count": 3
        }
      ]
    },
    {
      "cell_type": "markdown",
      "metadata": {
        "id": "uFIrkTErXosi"
      },
      "source": [
        "4. Sort the list in reverse order"
      ]
    },
    {
      "cell_type": "code",
      "metadata": {
        "id": "coyacXzzXosj",
        "colab": {
          "base_uri": "https://localhost:8080/"
        },
        "outputId": "4025be23-d763-49aa-dca5-9bc5c9953052"
      },
      "source": [
        "List.sort(reverse=True)\n",
        "List"
      ],
      "execution_count": 4,
      "outputs": [
        {
          "output_type": "execute_result",
          "data": {
            "text/plain": [
              "[20, 10, 9, 8, 7, 6, 5, 4, 3, 2, 1, 0, 0]"
            ]
          },
          "metadata": {
            "tags": []
          },
          "execution_count": 4
        }
      ]
    },
    {
      "cell_type": "markdown",
      "metadata": {
        "id": "yzPtupDNXosl"
      },
      "source": [
        "5. Remove the last two items from the list"
      ]
    },
    {
      "cell_type": "code",
      "metadata": {
        "id": "DP3XOVPEXosm",
        "colab": {
          "base_uri": "https://localhost:8080/"
        },
        "outputId": "bc4345ee-74ad-4614-ef51-83a9c2c87a34"
      },
      "source": [
        "List=List[:-2]\n",
        "List"
      ],
      "execution_count": 5,
      "outputs": [
        {
          "output_type": "execute_result",
          "data": {
            "text/plain": [
              "[20, 10, 9, 8, 7, 6, 5, 4, 3, 2, 1]"
            ]
          },
          "metadata": {
            "tags": []
          },
          "execution_count": 5
        }
      ]
    },
    {
      "cell_type": "markdown",
      "metadata": {
        "id": "Eo_uRUlfXosn"
      },
      "source": [
        "6. Invert the order of the list"
      ]
    },
    {
      "cell_type": "code",
      "metadata": {
        "id": "XM1xYMXuXoso",
        "colab": {
          "base_uri": "https://localhost:8080/"
        },
        "outputId": "6e05e869-9b30-4cd2-8a69-bcde6fdd8641"
      },
      "source": [
        "List.reverse()\n",
        "List"
      ],
      "execution_count": 6,
      "outputs": [
        {
          "output_type": "execute_result",
          "data": {
            "text/plain": [
              "[1, 2, 3, 4, 5, 6, 7, 8, 9, 10, 20]"
            ]
          },
          "metadata": {
            "tags": []
          },
          "execution_count": 6
        }
      ]
    },
    {
      "cell_type": "markdown",
      "metadata": {
        "id": "-lH17CHYXosp"
      },
      "source": [
        "7. How many items has the list?"
      ]
    },
    {
      "cell_type": "code",
      "metadata": {
        "id": "xYyc9j_TXosq",
        "colab": {
          "base_uri": "https://localhost:8080/"
        },
        "outputId": "fbcc6910-519e-4aa3-c89d-4227220b107b"
      },
      "source": [
        "len(List)"
      ],
      "execution_count": 7,
      "outputs": [
        {
          "output_type": "execute_result",
          "data": {
            "text/plain": [
              "11"
            ]
          },
          "metadata": {
            "tags": []
          },
          "execution_count": 7
        }
      ]
    },
    {
      "cell_type": "markdown",
      "metadata": {
        "id": "iVfkWr7VXosr"
      },
      "source": [
        "8. Give the minimum, maximum and the sum of all the items in the list"
      ]
    },
    {
      "cell_type": "code",
      "metadata": {
        "id": "VBdNlQ7PXoss",
        "colab": {
          "base_uri": "https://localhost:8080/"
        },
        "outputId": "45f3f548-0f4b-44f5-ac36-4de3a82dbe01"
      },
      "source": [
        "print(f'The minimum value is {min(List)}. \\nThe maximum value is {max(List)}. \\nThe sum of the values is {sum(List)}.')\n",
        "#print(min(List))\n",
        "#print(max(List))\n",
        "#print(sum(List))"
      ],
      "execution_count": 8,
      "outputs": [
        {
          "output_type": "stream",
          "text": [
            "The minimum value is 1. \n",
            "The maximum value is 20. \n",
            "The sum of the values is 75.\n"
          ],
          "name": "stdout"
        }
      ]
    },
    {
      "cell_type": "markdown",
      "metadata": {
        "id": "2ENDZL2_Xost"
      },
      "source": [
        "9. What will happen if you multiply the list by 2?"
      ]
    },
    {
      "cell_type": "code",
      "metadata": {
        "id": "MhbZhZruXosu",
        "colab": {
          "base_uri": "https://localhost:8080/"
        },
        "outputId": "80ea916e-3afe-4387-b601-5181aab3dd6a"
      },
      "source": [
        "List=[value*2 for value in List]\n",
        "List"
      ],
      "execution_count": 9,
      "outputs": [
        {
          "output_type": "execute_result",
          "data": {
            "text/plain": [
              "[2, 4, 6, 8, 10, 12, 14, 16, 18, 20, 40]"
            ]
          },
          "metadata": {
            "tags": []
          },
          "execution_count": 9
        }
      ]
    },
    {
      "cell_type": "markdown",
      "metadata": {
        "id": "nNk4WULTXosv"
      },
      "source": [
        "10. Can you divide the list by 3?"
      ]
    },
    {
      "cell_type": "code",
      "metadata": {
        "id": "nUeKMkuDXosv",
        "colab": {
          "base_uri": "https://localhost:8080/"
        },
        "outputId": "134f85c0-d40a-45cd-f9f2-10ab30f6f8d3"
      },
      "source": [
        "List=[value/3 for value in List]\n",
        "List"
      ],
      "execution_count": 10,
      "outputs": [
        {
          "output_type": "execute_result",
          "data": {
            "text/plain": [
              "[0.6666666666666666,\n",
              " 1.3333333333333333,\n",
              " 2.0,\n",
              " 2.6666666666666665,\n",
              " 3.3333333333333335,\n",
              " 4.0,\n",
              " 4.666666666666667,\n",
              " 5.333333333333333,\n",
              " 6.0,\n",
              " 6.666666666666667,\n",
              " 13.333333333333334]"
            ]
          },
          "metadata": {
            "tags": []
          },
          "execution_count": 10
        }
      ]
    },
    {
      "cell_type": "markdown",
      "metadata": {
        "id": "oUkR0YBmXosw"
      },
      "source": [
        "# Tupples\n",
        " \n",
        "1. Create a tupple with three characters and four numbers"
      ]
    },
    {
      "cell_type": "code",
      "metadata": {
        "id": "9qQG5r6ZXosx",
        "colab": {
          "base_uri": "https://localhost:8080/"
        },
        "outputId": "efd02bc4-8296-4830-edfa-4a2eadcc0785"
      },
      "source": [
        "Tupple=(\"a\", \"b\", \"c\", 1, 2, 3, 4)\n",
        "Tupple"
      ],
      "execution_count": 11,
      "outputs": [
        {
          "output_type": "execute_result",
          "data": {
            "text/plain": [
              "('a', 'b', 'c', 1, 2, 3, 4)"
            ]
          },
          "metadata": {
            "tags": []
          },
          "execution_count": 11
        }
      ]
    },
    {
      "cell_type": "markdown",
      "metadata": {
        "id": "0ShoQNOBXosx"
      },
      "source": [
        "2. Append two booleans (false, true) to the tupple"
      ]
    },
    {
      "cell_type": "code",
      "metadata": {
        "colab": {
          "base_uri": "https://localhost:8080/"
        },
        "id": "VIjuwg1mF0SC",
        "outputId": "e26a98b0-31fe-44df-e87a-482624d929d0"
      },
      "source": [
        "Tupple2=(False, True)\r\n",
        "Tupple=Tupple+Tupple2\r\n",
        "Tupple"
      ],
      "execution_count": 12,
      "outputs": [
        {
          "output_type": "execute_result",
          "data": {
            "text/plain": [
              "('a', 'b', 'c', 1, 2, 3, 4, False, True)"
            ]
          },
          "metadata": {
            "tags": []
          },
          "execution_count": 12
        }
      ]
    },
    {
      "cell_type": "code",
      "metadata": {
        "id": "1kKaJ5SLXosy"
      },
      "source": [
        "#דרך נוספת עם המרה ל list\n",
        "#List=list(Tupple)\n",
        "#List.append(False)\n",
        "#List.append(True)\n",
        "#Tupple=tuple(List)\n",
        "#Tupple"
      ],
      "execution_count": 13,
      "outputs": []
    },
    {
      "cell_type": "markdown",
      "metadata": {
        "id": "IC-KMuH0Xosz"
      },
      "source": [
        "3. Retrieve the third to sixth items from the tupple"
      ]
    },
    {
      "cell_type": "code",
      "metadata": {
        "id": "9YCDz09pXosz",
        "colab": {
          "base_uri": "https://localhost:8080/"
        },
        "outputId": "3ca88f38-5826-41db-e270-e8660b44238f"
      },
      "source": [
        "Tupple[3:6]"
      ],
      "execution_count": 14,
      "outputs": [
        {
          "output_type": "execute_result",
          "data": {
            "text/plain": [
              "(1, 2, 3)"
            ]
          },
          "metadata": {
            "tags": []
          },
          "execution_count": 14
        }
      ]
    },
    {
      "cell_type": "markdown",
      "metadata": {
        "id": "h_NPa7oUXos0"
      },
      "source": [
        "4. Divide the tupple by data type and create a list for each, then create a muttable tupple using these lists "
      ]
    },
    {
      "cell_type": "code",
      "metadata": {
        "id": "68D71xfOXos1",
        "colab": {
          "base_uri": "https://localhost:8080/"
        },
        "outputId": "83badb26-5825-4ff0-acbf-be931e55cd4e"
      },
      "source": [
        "List1=list(Tupple[0:3])\r\n",
        "List2=list(Tupple[3:7])\r\n",
        "List3=list(Tupple[7:])\r\n",
        "Tupple_muttable=([List1],[List2],[List3])\r\n",
        "Tupple_muttable"
      ],
      "execution_count": 15,
      "outputs": [
        {
          "output_type": "execute_result",
          "data": {
            "text/plain": [
              "([['a', 'b', 'c']], [[1, 2, 3, 4]], [[False, True]])"
            ]
          },
          "metadata": {
            "tags": []
          },
          "execution_count": 15
        }
      ]
    },
    {
      "cell_type": "markdown",
      "metadata": {
        "id": "9iUuwOB_Xos2"
      },
      "source": [
        "# Sets\n",
        " \n",
        "1. Create a set using the following paragraph:\n",
        " \n",
        "<quote>\n",
        "\"Shallow copy is a bit-wise copy of an object. A new object is created that has an exact copy of the values in the original object\"\n",
        "<quote>\n",
        " \n",
        "Note: Each part of the set must be a word, not a character!"
      ]
    },
    {
      "cell_type": "code",
      "metadata": {
        "id": "TDFjSpIHXos3",
        "colab": {
          "base_uri": "https://localhost:8080/"
        },
        "outputId": "f20a9ac5-4f0e-48d6-b1a2-97ad263dece9"
      },
      "source": [
        "paragraph = (\"Shallow copy is a bit-wise copy of an object. A new object is created that has an exact copy of the values in the original object\")\r\n",
        "set1 = set(paragraph.split(' '))\r\n",
        "set1"
      ],
      "execution_count": 16,
      "outputs": [
        {
          "output_type": "execute_result",
          "data": {
            "text/plain": [
              "{'A',\n",
              " 'Shallow',\n",
              " 'a',\n",
              " 'an',\n",
              " 'bit-wise',\n",
              " 'copy',\n",
              " 'created',\n",
              " 'exact',\n",
              " 'has',\n",
              " 'in',\n",
              " 'is',\n",
              " 'new',\n",
              " 'object',\n",
              " 'object.',\n",
              " 'of',\n",
              " 'original',\n",
              " 'that',\n",
              " 'the',\n",
              " 'values'}"
            ]
          },
          "metadata": {
            "tags": []
          },
          "execution_count": 16
        }
      ]
    },
    {
      "cell_type": "markdown",
      "metadata": {
        "id": "LCLI2XL6Xos4"
      },
      "source": [
        "2. Do you see something wierd in this set? What? How can you prevent that?"
      ]
    },
    {
      "cell_type": "code",
      "metadata": {
        "id": "xukSop9tXos4",
        "colab": {
          "base_uri": "https://localhost:8080/"
        },
        "outputId": "e9504412-eb66-433b-a850-5d8bdca4275c"
      },
      "source": [
        "#אם הכוונה היתה להימנע מכפילויות עקב אותיות גדולות וקטנו:\r\n",
        "paragraph=paragraph.lower()\r\n",
        "set1 = set(paragraph.split(' '))\r\n",
        "set1"
      ],
      "execution_count": 17,
      "outputs": [
        {
          "output_type": "execute_result",
          "data": {
            "text/plain": [
              "{'a',\n",
              " 'an',\n",
              " 'bit-wise',\n",
              " 'copy',\n",
              " 'created',\n",
              " 'exact',\n",
              " 'has',\n",
              " 'in',\n",
              " 'is',\n",
              " 'new',\n",
              " 'object',\n",
              " 'object.',\n",
              " 'of',\n",
              " 'original',\n",
              " 'shallow',\n",
              " 'that',\n",
              " 'the',\n",
              " 'values'}"
            ]
          },
          "metadata": {
            "tags": []
          },
          "execution_count": 17
        }
      ]
    },
    {
      "cell_type": "markdown",
      "metadata": {
        "id": "g0zhxuj0Xos5"
      },
      "source": [
        "# Dictionary\n",
        " \n",
        "1. Generate a dictionary from the following table:\n",
        "\n",
        "<table>\n",
        "    <tr> <th> EmployeeID </th> <th> Name </th> <th> Position </th> <th> Phone </th> </tr>\n",
        "    <tr> <td> 1020 </td> <td> Harry Smith </td> <td> Sales Manager </td> <td> 030-223.65.44 </td> </tr>\n",
        "    <tr> <td> 2201 </td><td> Margaret Holsum </td> <td> Sales Representative </td> <td> 030-223.64.12 </td> </tr>\n",
        "    <tr> <td> 3320 </td><td> Lasly Howard </td> <td> Human Resources </td> <td> 030-223.83.33 </td> </tr>\n",
        "    <tr> <td> 8111 </td><td> Larry Johnson </td> <td> Project Manager </td> <td> 030-224.22.00 </td> </tr>\n",
        "    <tr> <td> 2733 </td><td> Hellen Young </td> <td> Customer Service </td> <td> 030-223.03.20 </td> </tr>\n",
        "</table>\n"
      ]
    },
    {
      "cell_type": "code",
      "metadata": {
        "id": "_ccSfnUuXos7"
      },
      "source": [
        "Dictionary={\r\n",
        "  1020:('Harry Smith',\t'Sales Manager'\t,'030-223.65.44'),\r\n",
        "  2201:('Margaret Holsum',\t'Sales Representative','030-223.64.12'),\r\n",
        "  3320:('Lasly Howard',\t'Human Resources','030-223.83.33'),\r\n",
        "  8111:('Larry Johnson',\t'Project Manager'\t,'030-224.22.00'),\r\n",
        "  2733:('Hellen Young',\t'Customer Service',\t'030-223.03.20')\r\n",
        "}"
      ],
      "execution_count": 18,
      "outputs": []
    },
    {
      "cell_type": "markdown",
      "metadata": {
        "id": "xsMpeGQQXos8"
      },
      "source": [
        "1. Get all the keys of the dictionary"
      ]
    },
    {
      "cell_type": "code",
      "metadata": {
        "id": "bGm5MaEYXos8",
        "colab": {
          "base_uri": "https://localhost:8080/"
        },
        "outputId": "042db2d2-21e4-4c2e-e4e9-17160c22c74d"
      },
      "source": [
        "Dictionary.keys()"
      ],
      "execution_count": 19,
      "outputs": [
        {
          "output_type": "execute_result",
          "data": {
            "text/plain": [
              "dict_keys([1020, 2201, 3320, 8111, 2733])"
            ]
          },
          "metadata": {
            "tags": []
          },
          "execution_count": 19
        }
      ]
    },
    {
      "cell_type": "markdown",
      "metadata": {
        "id": "v7UPfgeYXos9"
      },
      "source": [
        "2. Get all the values of the dictionary"
      ]
    },
    {
      "cell_type": "code",
      "metadata": {
        "id": "Q25_fE1PXos-",
        "colab": {
          "base_uri": "https://localhost:8080/"
        },
        "outputId": "0f493c8b-261c-44d4-90f9-21ef991ce4fc"
      },
      "source": [
        "Dictionary.values()"
      ],
      "execution_count": 20,
      "outputs": [
        {
          "output_type": "execute_result",
          "data": {
            "text/plain": [
              "dict_values([('Harry Smith', 'Sales Manager', '030-223.65.44'), ('Margaret Holsum', 'Sales Representative', '030-223.64.12'), ('Lasly Howard', 'Human Resources', '030-223.83.33'), ('Larry Johnson', 'Project Manager', '030-224.22.00'), ('Hellen Young', 'Customer Service', '030-223.03.20')])"
            ]
          },
          "metadata": {
            "tags": []
          },
          "execution_count": 20
        }
      ]
    },
    {
      "cell_type": "markdown",
      "metadata": {
        "id": "v9hgtsiyXos_"
      },
      "source": [
        "3. Show the third row of the table by calling the dictionary using the respective EmployeeID"
      ]
    },
    {
      "cell_type": "code",
      "metadata": {
        "id": "DaOfidaZXos_",
        "colab": {
          "base_uri": "https://localhost:8080/"
        },
        "outputId": "0d8784d1-04df-430d-e046-f70dd388448a"
      },
      "source": [
        "Dictionary[3320]"
      ],
      "execution_count": 21,
      "outputs": [
        {
          "output_type": "execute_result",
          "data": {
            "text/plain": [
              "('Lasly Howard', 'Human Resources', '030-223.83.33')"
            ]
          },
          "metadata": {
            "tags": []
          },
          "execution_count": 21
        }
      ]
    },
    {
      "cell_type": "markdown",
      "metadata": {
        "id": "g7aSsg_YXotA"
      },
      "source": [
        "# Loop programming in python\n",
        " \n",
        "1. Write a script that shows all the primary numbers from 1 to 100. Use for.. loop and if..else"
      ]
    },
    {
      "cell_type": "code",
      "metadata": {
        "id": "sI8r_4zZXotB",
        "colab": {
          "base_uri": "https://localhost:8080/"
        },
        "outputId": "5eaf3296-edcf-41fc-ed63-e16ff7b49686"
      },
      "source": [
        "#מספר ראשוני מתחלק בעצמו וב 1\r\n",
        "#הדרך לפתור את הבעיה היא פשוט להריץ 2 לופים, הראשון ירוץ מ 1 עד 100\r\n",
        "#השני ירוץ מ 2 עד חצי מערך המספר \r\n",
        "# בתוך הלופ השני נוסיף תנאי שיספור כמה פעמים המספר מתחלק ללא שארית\r\n",
        "#בסוף נוסיף תנאי ללופ הראשון - אם לא היתה שום ספירה של מספרים שמתחלקים ללא שארית - אז המספר הוא ראשוני\r\n",
        "\r\n",
        "\r\n",
        "for num in range (1, 101): # מטרת הלופ הראשון היא פשוט לרוץ על כל המספרים מ 1 עד 100\r\n",
        "  divide_number=0 #מטרת הערך הזה היא לספור בכמה מספרים המספר מתחלק ללא שארית\r\n",
        "  for num2 in range(2, (num//2 + 1)): #מטרת הלופ השני היא לחלק את המספר בכל המספרים מ 2 עד חצי מערכו\r\n",
        "    if(num % num2 == 0): #לספור כמה מספרים מתחלקים עם שארית אפס\r\n",
        "      divide_number+=1\r\n",
        "      break\r\n",
        "\r\n",
        "  if (divide_number == 0): # אם המספר לא מתחלק בשום מספר מ 2 עד חצי מערכו אז להדפיס את המספר \r\n",
        "    print(num)"
      ],
      "execution_count": 22,
      "outputs": [
        {
          "output_type": "stream",
          "text": [
            "1\n",
            "2\n",
            "3\n",
            "5\n",
            "7\n",
            "11\n",
            "13\n",
            "17\n",
            "19\n",
            "23\n",
            "29\n",
            "31\n",
            "37\n",
            "41\n",
            "43\n",
            "47\n",
            "53\n",
            "59\n",
            "61\n",
            "67\n",
            "71\n",
            "73\n",
            "79\n",
            "83\n",
            "89\n",
            "97\n"
          ],
          "name": "stdout"
        }
      ]
    },
    {
      "cell_type": "markdown",
      "metadata": {
        "id": "FwUY1HHDXotC"
      },
      "source": [
        "2. Write a different solution to the problem in the last question, but using while.. in place of for.."
      ]
    },
    {
      "cell_type": "code",
      "metadata": {
        "id": "Wg-U7qOKXotC",
        "colab": {
          "base_uri": "https://localhost:8080/"
        },
        "outputId": "42a8a7ef-ba6f-46fb-9bf5-1db24445eb85"
      },
      "source": [
        "num = 1\r\n",
        "while(num <= 100):\r\n",
        "  divide_number = 0\r\n",
        "  num2 = 2\r\n",
        "  while(num2 <= num//2):\r\n",
        "    if(num % num2 == 0):\r\n",
        "      divide_number+=1\r\n",
        "      break\r\n",
        "    num2+=1\r\n",
        "\r\n",
        "  if (divide_number == 0):\r\n",
        "    print(num)\r\n",
        "  num+=1"
      ],
      "execution_count": 23,
      "outputs": [
        {
          "output_type": "stream",
          "text": [
            "1\n",
            "2\n",
            "3\n",
            "5\n",
            "7\n",
            "11\n",
            "13\n",
            "17\n",
            "19\n",
            "23\n",
            "29\n",
            "31\n",
            "37\n",
            "41\n",
            "43\n",
            "47\n",
            "53\n",
            "59\n",
            "61\n",
            "67\n",
            "71\n",
            "73\n",
            "79\n",
            "83\n",
            "89\n",
            "97\n"
          ],
          "name": "stdout"
        }
      ]
    }
  ]
}